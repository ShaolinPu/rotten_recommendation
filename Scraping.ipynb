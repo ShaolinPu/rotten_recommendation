{
 "cells": [
  {
   "cell_type": "code",
   "execution_count": 1,
   "metadata": {},
   "outputs": [],
   "source": [
    "from bs4 import BeautifulSoup as bs\n",
    "import numpy as np\n",
    "import pandas as pd\n",
    "import requests\n",
    "import re"
   ]
  },
  {
   "cell_type": "markdown",
   "metadata": {},
   "source": [
    "### Movie name & Consensus"
   ]
  },
  {
   "cell_type": "code",
   "execution_count": 2,
   "metadata": {},
   "outputs": [],
   "source": [
    "def name_consensus_fn(soup):\n",
    "    movie_name = soup.find('div',{'class':'mop-ratings-wrap score_panel js-mop-ratings-wrap'})\n",
    "    movie_name = soup.findAll('h1',{'class':'mop-ratings-wrap__title mop-ratings-wrap__title--top'})[0].get_text()\n",
    "    critic_consensus = soup.findAll('p',{'class':'mop-ratings-wrap__text mop-ratings-wrap__text--concensus'})[0].get_text()\n",
    "    \n",
    "    return movie_name, critic_consensus"
   ]
  },
  {
   "cell_type": "markdown",
   "metadata": {},
   "source": [
    "### Ratings"
   ]
  },
  {
   "cell_type": "code",
   "execution_count": 3,
   "metadata": {},
   "outputs": [],
   "source": [
    "def critic_score_fn(critic):\n",
    "    try:\n",
    "        critic_score = critic.find('span',{'class':'mop-ratings-wrap__percentage'}).get_text()\n",
    "    except AttributeError:\n",
    "        critic_score = np.NaN\n",
    "#     print(critic_score)\n",
    "    return critic_score"
   ]
  },
  {
   "cell_type": "code",
   "execution_count": 4,
   "metadata": {},
   "outputs": [],
   "source": [
    "def num_critics_fn(critic):\n",
    "    num_critics = critic.find('small',{'class':'mop-ratings-wrap__text--small'}).get_text()\n",
    "#     print(num_critics)\n",
    "    return num_critics"
   ]
  },
  {
   "cell_type": "code",
   "execution_count": 5,
   "metadata": {},
   "outputs": [],
   "source": [
    "def audience_score_fn(audience):\n",
    "    try:\n",
    "        audience_score = audience.find('span',{'class':'mop-ratings-wrap__percentage'}).get_text()\n",
    "    except AttributeError:\n",
    "        audience_score = np.NaN\n",
    "#     print(audience_score)        \n",
    "    return audience_score"
   ]
  },
  {
   "cell_type": "code",
   "execution_count": 6,
   "metadata": {},
   "outputs": [],
   "source": [
    "def num_audience_fn(audience):\n",
    "    num_audience = audience.find('strong',{'class':'mop-ratings-wrap__text--small'}).get_text()\n",
    "#     print(num_audience)\n",
    "    return num_audience"
   ]
  },
  {
   "cell_type": "markdown",
   "metadata": {},
   "source": [
    "### Movie info"
   ]
  },
  {
   "cell_type": "code",
   "execution_count": 7,
   "metadata": {},
   "outputs": [],
   "source": [
    "def synopsis_fn(tables):\n",
    "    synopsis = tables.findAll('div',{'class':'movie_synopsis clamp clamp-6 js-clamp'})[0].get_text()\n",
    "#     print(synopsis)\n",
    "    return synopsis"
   ]
  },
  {
   "cell_type": "code",
   "execution_count": 8,
   "metadata": {},
   "outputs": [],
   "source": [
    "def movie_info_fn(movie_info_box):\n",
    "    dict_data = {}\n",
    "\n",
    "    for i in range(12):\n",
    "        try:\n",
    "            ii = movie_info_box[i].findAll('div',{'class':'meta-label subtle'})[0].get_text()\n",
    "            dict_data[ii] = movie_info_box[i].find('div',{'class':'meta-value'}).get_text()\n",
    "    #         print(synopsis[i].findAll('div',{'class':'meta-label subtle'})[0].get_text(), synopsis[i].find('div',{'class':'meta-value'}).get_text())\n",
    "        except:\n",
    "            continue\n",
    "    return dict_data"
   ]
  },
  {
   "cell_type": "markdown",
   "metadata": {},
   "source": [
    "def pg_fn(tables):\n",
    "    pg = tables.findAll('div',{'class':'meta-value'})[0].get_text()\n",
    "    return pg"
   ]
  },
  {
   "cell_type": "markdown",
   "metadata": {},
   "source": [
    "def genre_fn(small_box):\n",
    "    genre = small_box[1].find('div',{'class':'meta-value'}).get_text()\n",
    "    return genre    "
   ]
  },
  {
   "cell_type": "markdown",
   "metadata": {},
   "source": [
    "def directors_fn(small_box):\n",
    "    directors = small_box[2].findAll('div',{'class':'meta-value'})[0].get_text()\n",
    "    return directors"
   ]
  },
  {
   "cell_type": "markdown",
   "metadata": {},
   "source": [
    "def written_by_fn(small_box):\n",
    "    written_by = small_box[3].findAll('div',{'class':'meta-value'})[0].get_text()\n",
    "    return written_by"
   ]
  },
  {
   "cell_type": "markdown",
   "metadata": {},
   "source": [
    "def release_date_fn(small_box):\n",
    "    release_date = small_box[4].findAll('div',{'class':'meta-value'})[0].get_text()\n",
    "    return release_date"
   ]
  },
  {
   "cell_type": "markdown",
   "metadata": {},
   "source": [
    "def run_time_fn(small_box):\n",
    "    run_time = small_box[7].findAll('div',{'class':'meta-value'})[0].get_text()"
   ]
  },
  {
   "cell_type": "markdown",
   "metadata": {},
   "source": [
    "def studio_fn(small_box):\n",
    "    try:\n",
    "        studio = small_box[8].findAll('div',{'class':'meta-value'})[0].get_text()\n",
    "    except IndexError:\n",
    "        studio = np.NaN\n",
    "    return studio"
   ]
  },
  {
   "cell_type": "markdown",
   "metadata": {},
   "source": [
    "### Cast"
   ]
  },
  {
   "cell_type": "code",
   "execution_count": 9,
   "metadata": {},
   "outputs": [],
   "source": [
    "def list_celeb_names_fn(all_celebrities):\n",
    "    top_5_celeb_names = []\n",
    "    try:\n",
    "        for i in range(5):\n",
    "            top_5_celeb_names.append(all_celebrities[i].attrs['href'][11:])\n",
    "    except IndexError:\n",
    "        pass\n",
    "    return top_5_celeb_names"
   ]
  },
  {
   "cell_type": "code",
   "execution_count": 35,
   "metadata": {},
   "outputs": [],
   "source": [
    "def scrape_celeb_names_fn(soup):\n",
    "    cast = soup.find('div',{'class':'castSection'})\n",
    "    top_5_celeb_names = []\n",
    "    try :\n",
    "        all_celebs = cast.findAll('a',{'class':'pull-left'})\n",
    "        top_5_celeb_names = list_celeb_names_fn(all_celebs)\n",
    "        top_5_celeb_names = \", \".join(top_5_celeb_names)\n",
    "    except AttributeError:\n",
    "        pass\n",
    "    return top_5_celeb_names"
   ]
  },
  {
   "cell_type": "markdown",
   "metadata": {},
   "source": [
    "### Critics review"
   ]
  },
  {
   "cell_type": "code",
   "execution_count": 26,
   "metadata": {},
   "outputs": [],
   "source": [
    "def critic_line_url_sub_fn(critic_lines):\n",
    "    url =[]\n",
    "    critic_line =[]\n",
    "    for i in range(20):\n",
    "        try:\n",
    "            url.append(critic_lines[i].attrs['cite'])\n",
    "            critic_line.append(critic_lines[i].get_text())\n",
    "        except:\n",
    "            continue\n",
    "    return critic_line, url"
   ]
  },
  {
   "cell_type": "code",
   "execution_count": 27,
   "metadata": {},
   "outputs": [],
   "source": [
    "def critic_line_url_fn(soup):\n",
    "    critic_lines = soup.findAll('div',{'class':'panel-body content_body'})[3]\n",
    "    critic_lines = critic_lines.findAll('blockquote',{'class':'media-body quote_bubble__quote'})\n",
    "    critic_line, critic_url = critic_line_url_sub_fn(critic_lines)\n",
    "    critic_line, critic_url = \", \".join(critic_line), \", \".join(critic_url)\n",
    "    return critic_line, critic_url"
   ]
  },
  {
   "cell_type": "markdown",
   "metadata": {},
   "source": [
    "### Audience review"
   ]
  },
  {
   "cell_type": "code",
   "execution_count": 28,
   "metadata": {},
   "outputs": [],
   "source": [
    "def audience_line_sub_fn(audience_review):\n",
    "    audience_line =[]\n",
    "    for i in range(10):\n",
    "        try:\n",
    "            audience_line.append(audience_review.findAll('div',{'class':'mop-audience-reviews__review--comment clamp clamp-4 js-clamp'})[i].get_text())\n",
    "        except IndexError:\n",
    "            continue\n",
    "    return audience_line"
   ]
  },
  {
   "cell_type": "code",
   "execution_count": 29,
   "metadata": {},
   "outputs": [],
   "source": [
    "def audience_review_fn(soup):\n",
    "    audience_review = soup.find('ul',{'class':'mop-audience-reviews__reviews-wrap clearfix'})\n",
    "    audience_lines = audience_line_sub_fn(audience_review)\n",
    "    audience_review = \"\".join(audience_lines)\n",
    "    return(audience_review)"
   ]
  },
  {
   "cell_type": "markdown",
   "metadata": {},
   "source": [
    "### Quotes "
   ]
  },
  {
   "cell_type": "code",
   "execution_count": 30,
   "metadata": {},
   "outputs": [],
   "source": [
    "def quotes_helper_fn(quotes_lines):\n",
    "    quote_lines = quotes_lines[1::2]\n",
    "    cleaned_quotes = []\n",
    "    for line in quote_lines:\n",
    "        try:\n",
    "            line = str(line).replace('\\n','')\n",
    "            cleaned_quotes.append(re.search('<span>(.*)</span>',line).group(1))\n",
    "        except:\n",
    "            continue\n",
    "    quotes = \"\".join(cleaned_quotes)\n",
    "    return quotes"
   ]
  },
  {
   "cell_type": "code",
   "execution_count": 31,
   "metadata": {},
   "outputs": [],
   "source": [
    "def quotes_fn(soup):\n",
    "#     quotes_lines = [\n",
    "    try:\n",
    "        quotes_url = soup.findAll('div',{'class':'panel-body content_body'})[4]\n",
    "        quotes_url = quotes_url.find('a',{'class':'unstyled articleLink fr'}).attrs['href']\n",
    "        quotes_url = 'https://www.rottentomatoes.com' + quotes_url\n",
    "        quotes_page = requests.get(quotes_url)\n",
    "        quotes_page=bs(quotes_page.text)\n",
    "        quotes_lines = quotes_page.findAll('div',{'class':'panel-body content_body'})[1]\n",
    "        quotes_lines = quotes_lines.findAll('span')\n",
    "        \n",
    "    except:\n",
    "        return np.NaN\n",
    "    \n",
    "    return quotes_helper_fn(quotes_lines)"
   ]
  },
  {
   "cell_type": "code",
   "execution_count": null,
   "metadata": {},
   "outputs": [],
   "source": []
  },
  {
   "cell_type": "markdown",
   "metadata": {},
   "source": [
    "### Scraping to get movie names"
   ]
  },
  {
   "cell_type": "code",
   "execution_count": 120,
   "metadata": {},
   "outputs": [],
   "source": [
    "all_genre_100 = soup.findAll('ul',{'class':'dropdown-menu'})\n",
    "little_cleaned_genre_100 = all_genre_100[0].findAll('a')\n",
    "\n",
    "links_100_movies_various_genre = []\n",
    "\n",
    "for i in range(17):\n",
    "    extension = str(little_cleaned_genre_100[i].attrs['href'])\n",
    "    extension = \"https://www.rottentomatoes.com\" + extension\n",
    "    links_100_movies_various_genre.append(extension)"
   ]
  },
  {
   "cell_type": "code",
   "execution_count": 158,
   "metadata": {},
   "outputs": [
    {
     "name": "stdout",
     "output_type": "stream",
     "text": [
      "https://www.rottentomatoes.com/top/bestofrt/top_100_action__adventure_movies/\n",
      "https://www.rottentomatoes.com/top/bestofrt/top_100_animation_movies/\n",
      "https://www.rottentomatoes.com/top/bestofrt/top_100_art_house__international_movies/\n",
      "https://www.rottentomatoes.com/top/bestofrt/top_100_classics_movies/\n",
      "https://www.rottentomatoes.com/top/bestofrt/top_100_comedy_movies/\n",
      "https://www.rottentomatoes.com/top/bestofrt/top_100_documentary_movies/\n",
      "https://www.rottentomatoes.com/top/bestofrt/top_100_drama_movies/\n",
      "https://www.rottentomatoes.com/top/bestofrt/top_100_horror_movies/\n",
      "https://www.rottentomatoes.com/top/bestofrt/top_100_kids__family_movies/\n",
      "https://www.rottentomatoes.com/top/bestofrt/top_100_musical__performing_arts_movies/\n",
      "https://www.rottentomatoes.com/top/bestofrt/top_100_mystery__suspense_movies/\n",
      "https://www.rottentomatoes.com/top/bestofrt/top_100_romance_movies/\n",
      "https://www.rottentomatoes.com/top/bestofrt/top_100_science_fiction__fantasy_movies/\n",
      "https://www.rottentomatoes.com/top/bestofrt/top_100_special_interest_movies/\n",
      "https://www.rottentomatoes.com/top/bestofrt/top_100_sports__fitness_movies/\n",
      "https://www.rottentomatoes.com/top/bestofrt/top_100_television_movies/\n",
      "https://www.rottentomatoes.com/top/bestofrt/top_100_western_movies/\n"
     ]
    }
   ],
   "source": [
    "movie_url_genre = pd.DataFrame(columns=['url'])\n",
    "\n",
    "for i in links_100_movies_various_genre:\n",
    "    try:\n",
    "#         print(i)\n",
    "        movie_links_genre = pd.DataFrame()\n",
    "        page = requests.get(i)\n",
    "        soup=bs(page.text)\n",
    "\n",
    "        movie_genre = soup.find('button',{'class':'dropdown-toggle btn btn-primary-border fullWidth'}).get_text()\n",
    "        movie_genre = str(movie_genre).replace('\\n','')\n",
    "        movie_genre = str(movie_genre).replace(' ','')\n",
    "        full_table = soup.find('table',{'class':'table'})\n",
    "    #     print(full_table)\n",
    "        movies_list_url = []\n",
    "        for i in range(100):\n",
    "            url_uncleaned = full_table.findAll('a',{'class':'unstyled articleLink'})[i].attrs['href']\n",
    "            url_cleaned = 'https://www.rottentomatoes.com' + url_uncleaned\n",
    "            movies_list_url.append(url_cleaned)\n",
    "\n",
    "    #     print(movies_list_url)\n",
    "\n",
    "        movie_links_genre = pd.DataFrame(movies_list_url, columns = ['url'])\n",
    "        movie_links_genre['genre'] =  movie_genre\n",
    "        movie_url_genre = movie_url_genre.append(movie_links_genre)  \n",
    "    except:\n",
    "        continue"
   ]
  },
  {
   "cell_type": "code",
   "execution_count": 165,
   "metadata": {},
   "outputs": [],
   "source": [
    "movie_url_genre.to_csv(\"movie_url_genre.csv\", index=False)"
   ]
  },
  {
   "cell_type": "code",
   "execution_count": null,
   "metadata": {},
   "outputs": [],
   "source": []
  },
  {
   "cell_type": "code",
   "execution_count": null,
   "metadata": {},
   "outputs": [],
   "source": []
  },
  {
   "cell_type": "code",
   "execution_count": 33,
   "metadata": {},
   "outputs": [],
   "source": [
    "def scrape_rotten(movies_list):\n",
    "    final_df = pd.DataFrame()\n",
    "    i=0\n",
    "    for x in movies_list:\n",
    "        print(x)\n",
    "        print(i)\n",
    "        i+=1\n",
    "        page = requests.get(x)\n",
    "        soup=bs(page.text)\n",
    "        \n",
    "        movie_name, critic_consensus = name_consensus_fn(soup)\n",
    "        \n",
    "        critic = soup.find('div',{'class':'mop-ratings-wrap__half'})\n",
    "        critic_score = critic_score_fn(critic)\n",
    "        num_critics = num_critics_fn(critic)\n",
    "        \n",
    "        audience = soup.find('div',{'class':'mop-ratings-wrap__half audience-score'})\n",
    "        audience_score = audience_score_fn(audience)\n",
    "        num_audience = num_audience_fn(audience)\n",
    "        \n",
    "        tables = soup.find('div',{'class':'panel-body content_body'})\n",
    "        synopsis = synopsis_fn(tables)\n",
    "#         pg = pg_fn(tables)\n",
    "\n",
    "        movie_info = tables.findAll('li',{'class':'meta-row clearfix'})\n",
    "        movie_info_dict = movie_info_fn(movie_info)\n",
    "#         genre = genre_fn(small_box)\n",
    "#         directors = directors_fn(small_box)\n",
    "#         written_by = written_by_fn(small_box)\n",
    "#         release_date = release_date_fn(small_box)\n",
    "#         run_time = run_time_fn(small_box)\n",
    "#         print(run_time)\n",
    "#         studio = studio_fn(small_box)\n",
    "        \n",
    "        \n",
    "        top_5_celeb_names = scrape_celeb_names_fn(soup)\n",
    "        critic_line, critic_url = critic_line_url_fn(soup)\n",
    "        audience_review = audience_review_fn(soup)\n",
    "        quotes = quotes_fn(soup)\n",
    "       \n",
    "        \n",
    "#         print(\"==\"*30)\n",
    "        \n",
    "        df=pd.DataFrame([movie_info_dict])\n",
    "        df['movie_name'] = [movie_name]\n",
    "        df['critic_consensus'] = critic_consensus\n",
    "        \n",
    "        df['critic_score'] = [critic_score]\n",
    "        df['audience_score'] = [audience_score]\n",
    "#         df['pg'] = pg\n",
    "#         df['genre'] = genre\n",
    "#         df['directors'] = directors\n",
    "#         df['written_by'] = written_by\n",
    "#         df['release_date'] = release_date\n",
    "#         df['run_time'] = run_time\n",
    "#         df['studio'] = studio\n",
    "        df['top_5_celeb_names'] = top_5_celeb_names\n",
    "        df['critic_line'] = critic_line\n",
    "        df['critic_url'] = critic_url\n",
    "        df['audience_review'] = audience_review\n",
    "        df['quotes'] = quotes\n",
    "\n",
    "        final_df = final_df.append(df)\n",
    "    return final_df\n",
    "#     return critic_score, num_critics\n",
    "        "
   ]
  },
  {
   "cell_type": "code",
   "execution_count": 34,
   "metadata": {
    "scrolled": true
   },
   "outputs": [
    {
     "name": "stdout",
     "output_type": "stream",
     "text": [
      "https://www.rottentomatoes.com/m/black_panther_2018\n",
      "0\n",
      "https://www.rottentomatoes.com/m/avengers_endgame\n",
      "1\n",
      "https://www.rottentomatoes.com/m/mission_impossible_fallout\n",
      "2\n",
      "https://www.rottentomatoes.com/m/spider_man_into_the_spider_verse\n",
      "3\n",
      "https://www.rottentomatoes.com/m/mad_max_fury_road\n",
      "4\n",
      "https://www.rottentomatoes.com/m/wonder_woman_2017\n",
      "5\n",
      "https://www.rottentomatoes.com/m/coco_2017\n",
      "6\n",
      "https://www.rottentomatoes.com/m/dunkirk_2017\n",
      "7\n",
      "https://www.rottentomatoes.com/m/thor_ragnarok_2017\n",
      "8\n",
      "https://www.rottentomatoes.com/m/logan_2017\n",
      "9\n",
      "https://www.rottentomatoes.com/m/star_wars_the_last_jedi\n",
      "10\n",
      "https://www.rottentomatoes.com/m/1011615-king_kong\n",
      "11\n",
      "https://www.rottentomatoes.com/m/star_wars_episode_vii_the_force_awakens\n",
      "12\n",
      "https://www.rottentomatoes.com/m/1000355-adventures_of_robin_hood\n",
      "13\n",
      "https://www.rottentomatoes.com/m/spider_man_far_from_home\n",
      "14\n",
      "https://www.rottentomatoes.com/m/incredibles_2\n",
      "15\n",
      "https://www.rottentomatoes.com/m/zootopia\n",
      "16\n",
      "https://www.rottentomatoes.com/m/war_for_the_planet_of_the_apes\n",
      "17\n",
      "https://www.rottentomatoes.com/m/spider_man_homecoming\n",
      "18\n",
      "https://www.rottentomatoes.com/m/seven_samurai_1956\n",
      "19\n",
      "https://www.rottentomatoes.com/m/1013775-metropolis\n",
      "20\n",
      "https://www.rottentomatoes.com/m/baby_driver\n",
      "21\n",
      "https://www.rottentomatoes.com/m/shazam\n",
      "22\n",
      "https://www.rottentomatoes.com/m/up\n",
      "23\n",
      "https://www.rottentomatoes.com/m/jaws\n",
      "24\n",
      "https://www.rottentomatoes.com/m/captain_america_civil_war\n",
      "25\n",
      "https://www.rottentomatoes.com/m/lawrence_of_arabia\n",
      "26\n",
      "https://www.rottentomatoes.com/m/1000121-39_steps\n",
      "27\n",
      "https://www.rottentomatoes.com/m/the_dark_knight\n",
      "28\n",
      "https://www.rottentomatoes.com/m/treasure_of_the_sierra_madre\n",
      "29\n",
      "https://www.rottentomatoes.com/m/blade_runner_2049\n",
      "30\n",
      "https://www.rottentomatoes.com/m/the_jungle_book_2016\n",
      "31\n",
      "https://www.rottentomatoes.com/m/apocalypse_now\n",
      "32\n",
      "https://www.rottentomatoes.com/m/harry_potter_and_the_deathly_hallows_part_2_2011\n",
      "33\n",
      "https://www.rottentomatoes.com/m/skyfall\n",
      "34\n",
      "https://www.rottentomatoes.com/m/the_hurt_locker\n",
      "35\n",
      "https://www.rottentomatoes.com/m/1019774-stagecoach\n",
      "36\n",
      "https://www.rottentomatoes.com/m/moana_2016\n",
      "37\n",
      "https://www.rottentomatoes.com/m/the_lego_movie\n",
      "38\n",
      "https://www.rottentomatoes.com/m/avengers_infinity_war\n",
      "39\n",
      "https://www.rottentomatoes.com/m/star_trek_11\n",
      "40\n",
      "https://www.rottentomatoes.com/m/ant_man_and_the_wasp\n",
      "41\n",
      "https://www.rottentomatoes.com/m/marvels_the_avengers\n",
      "42\n"
     ]
    },
    {
     "ename": "UnboundLocalError",
     "evalue": "local variable 'top_5_celeb_names' referenced before assignment",
     "output_type": "error",
     "traceback": [
      "\u001b[1;31m---------------------------------------------------------------------------\u001b[0m",
      "\u001b[1;31mUnboundLocalError\u001b[0m                         Traceback (most recent call last)",
      "\u001b[1;32m<ipython-input-34-e32c01c4af54>\u001b[0m in \u001b[0;36m<module>\u001b[1;34m\u001b[0m\n\u001b[1;32m----> 1\u001b[1;33m \u001b[0mff\u001b[0m \u001b[1;33m=\u001b[0m \u001b[0mscrape_rotten\u001b[0m\u001b[1;33m(\u001b[0m\u001b[0mmovies_list\u001b[0m\u001b[1;33m)\u001b[0m\u001b[1;33m\u001b[0m\u001b[1;33m\u001b[0m\u001b[0m\n\u001b[0m",
      "\u001b[1;32m<ipython-input-33-9e469e174f4f>\u001b[0m in \u001b[0;36mscrape_rotten\u001b[1;34m(movies_list)\u001b[0m\n\u001b[0;32m     34\u001b[0m \u001b[1;33m\u001b[0m\u001b[0m\n\u001b[0;32m     35\u001b[0m \u001b[1;33m\u001b[0m\u001b[0m\n\u001b[1;32m---> 36\u001b[1;33m         \u001b[0mtop_5_celeb_names\u001b[0m \u001b[1;33m=\u001b[0m \u001b[0mscrape_celeb_names_fn\u001b[0m\u001b[1;33m(\u001b[0m\u001b[0msoup\u001b[0m\u001b[1;33m)\u001b[0m\u001b[1;33m\u001b[0m\u001b[1;33m\u001b[0m\u001b[0m\n\u001b[0m\u001b[0;32m     37\u001b[0m         \u001b[0mcritic_line\u001b[0m\u001b[1;33m,\u001b[0m \u001b[0mcritic_url\u001b[0m \u001b[1;33m=\u001b[0m \u001b[0mcritic_line_url_fn\u001b[0m\u001b[1;33m(\u001b[0m\u001b[0msoup\u001b[0m\u001b[1;33m)\u001b[0m\u001b[1;33m\u001b[0m\u001b[1;33m\u001b[0m\u001b[0m\n\u001b[0;32m     38\u001b[0m         \u001b[0maudience_review\u001b[0m \u001b[1;33m=\u001b[0m \u001b[0maudience_review_fn\u001b[0m\u001b[1;33m(\u001b[0m\u001b[0msoup\u001b[0m\u001b[1;33m)\u001b[0m\u001b[1;33m\u001b[0m\u001b[1;33m\u001b[0m\u001b[0m\n",
      "\u001b[1;32m<ipython-input-25-266902d457ad>\u001b[0m in \u001b[0;36mscrape_celeb_names_fn\u001b[1;34m(soup)\u001b[0m\n\u001b[0;32m      7\u001b[0m     \u001b[1;32mexcept\u001b[0m \u001b[0mAttributeError\u001b[0m\u001b[1;33m:\u001b[0m\u001b[1;33m\u001b[0m\u001b[1;33m\u001b[0m\u001b[0m\n\u001b[0;32m      8\u001b[0m         \u001b[1;32mpass\u001b[0m\u001b[1;33m\u001b[0m\u001b[1;33m\u001b[0m\u001b[0m\n\u001b[1;32m----> 9\u001b[1;33m     \u001b[1;32mreturn\u001b[0m \u001b[0mtop_5_celeb_names\u001b[0m\u001b[1;33m\u001b[0m\u001b[1;33m\u001b[0m\u001b[0m\n\u001b[0m",
      "\u001b[1;31mUnboundLocalError\u001b[0m: local variable 'top_5_celeb_names' referenced before assignment"
     ]
    }
   ],
   "source": [
    "ff = scrape_rotten(movies_list)"
   ]
  },
  {
   "cell_type": "code",
   "execution_count": null,
   "metadata": {},
   "outputs": [],
   "source": []
  },
  {
   "cell_type": "code",
   "execution_count": null,
   "metadata": {},
   "outputs": [],
   "source": []
  },
  {
   "cell_type": "code",
   "execution_count": null,
   "metadata": {},
   "outputs": [],
   "source": []
  },
  {
   "cell_type": "code",
   "execution_count": null,
   "metadata": {},
   "outputs": [],
   "source": []
  },
  {
   "cell_type": "code",
   "execution_count": null,
   "metadata": {},
   "outputs": [],
   "source": []
  },
  {
   "cell_type": "code",
   "execution_count": null,
   "metadata": {},
   "outputs": [],
   "source": []
  },
  {
   "cell_type": "code",
   "execution_count": null,
   "metadata": {},
   "outputs": [],
   "source": []
  },
  {
   "cell_type": "markdown",
   "metadata": {},
   "source": [
    "### Movie name and consensus"
   ]
  },
  {
   "cell_type": "code",
   "execution_count": 225,
   "metadata": {},
   "outputs": [],
   "source": [
    "page = requests.get(\"https://www.rottentomatoes.com/m/seven_samurai_1956\")\n",
    "soup=bs(page.text)\n",
    "\n",
    "movie_name = soup.find('div',{'class':'mop-ratings-wrap score_panel js-mop-ratings-wrap'})\n",
    "movie_name = soup.findAll('h1',{'class':'mop-ratings-wrap__title mop-ratings-wrap__title--top'})[0].get_text()\n",
    "critic_consensus = soup.findAll('p',{'class':'mop-ratings-wrap__text mop-ratings-wrap__text--concensus'})[0].get_text()"
   ]
  },
  {
   "cell_type": "code",
   "execution_count": 226,
   "metadata": {},
   "outputs": [
    {
     "data": {
      "text/plain": [
       "'Seven Samurai (Shichinin no Samurai)'"
      ]
     },
     "execution_count": 226,
     "metadata": {},
     "output_type": "execute_result"
    }
   ],
   "source": [
    "movie_name"
   ]
  },
  {
   "cell_type": "code",
   "execution_count": 228,
   "metadata": {},
   "outputs": [
    {
     "data": {
      "text/plain": [
       "\"Arguably Akira Kurosawa's masterpiece, The Seven Samurai is an epic adventure classic with an engrossing story, memorable characters, and stunning action sequences that make it one of the most influential films ever made.\""
      ]
     },
     "execution_count": 228,
     "metadata": {},
     "output_type": "execute_result"
    }
   ],
   "source": [
    "\n",
    "critic_consensus"
   ]
  },
  {
   "cell_type": "markdown",
   "metadata": {},
   "source": [
    "## Ratings"
   ]
  },
  {
   "cell_type": "code",
   "execution_count": 209,
   "metadata": {},
   "outputs": [],
   "source": [
    "critic = soup.find('div',{'class':'mop-ratings-wrap__half'})"
   ]
  },
  {
   "cell_type": "code",
   "execution_count": 107,
   "metadata": {
    "scrolled": true
   },
   "outputs": [
    {
     "name": "stdout",
     "output_type": "stream",
     "text": [
      "\n",
      "                    100%\n",
      "                \n"
     ]
    }
   ],
   "source": [
    "try:\n",
    "    critic_score = critic.find('span',{'class':'mop-ratings-wrap__percentage'}).get_text()\n",
    "    print(critic_score)\n",
    "except AttributeError:\n",
    "    critic_score = np.NaN"
   ]
  },
  {
   "cell_type": "code",
   "execution_count": 108,
   "metadata": {},
   "outputs": [
    {
     "data": {
      "text/plain": [
       "'                            64                    '"
      ]
     },
     "execution_count": 108,
     "metadata": {},
     "output_type": "execute_result"
    }
   ],
   "source": [
    "num_critics = critic.find('small',{'class':'mop-ratings-wrap__text--small'}).get_text()\n",
    "num_critics.replace('\\n','')"
   ]
  },
  {
   "cell_type": "code",
   "execution_count": 109,
   "metadata": {},
   "outputs": [
    {
     "name": "stdout",
     "output_type": "stream",
     "text": [
      "\n",
      "                    97%\n",
      "                \n"
     ]
    }
   ],
   "source": [
    "audience = soup.find('div',{'class':'mop-ratings-wrap__half audience-score'})\n",
    "try:\n",
    "    audience_score = audience.find('span',{'class':'mop-ratings-wrap__percentage'}).get_text()\n",
    "    print(audience_score)\n",
    "except AttributeError:\n",
    "    audience_score = np.NaN"
   ]
  },
  {
   "cell_type": "code",
   "execution_count": 110,
   "metadata": {},
   "outputs": [
    {
     "data": {
      "text/plain": [
       "'User Ratings: 90,992'"
      ]
     },
     "execution_count": 110,
     "metadata": {},
     "output_type": "execute_result"
    }
   ],
   "source": [
    "num_audience = audience.find('strong',{'class':'mop-ratings-wrap__text--small'}).get_text()\n",
    "num_audience"
   ]
  },
  {
   "cell_type": "markdown",
   "metadata": {},
   "source": [
    "### Movie Info"
   ]
  },
  {
   "cell_type": "code",
   "execution_count": 163,
   "metadata": {},
   "outputs": [
    {
     "data": {
      "text/plain": [
       "\"                Akira Kurosawa's epic tale concerns honor and duty during a time when the old traditional order is breaking down. The film opens with master samurai Kambei (Takashi Shimura) posing as a monk to save a kidnapped farmer's child. Impressed by his selflessness and bravery, a group of farmers begs him to defend their terrorized village from bandits. Kambei agrees, although there is no material gain or honor to be had in the endeavor. Soon he attracts a pair of followers: a young samurai named Katsushiro (Isao Kimura), who quickly becomes Kambei's disciple, and boisterous Kikuchiyo (Toshiro Mifune), who poses as a samurai but is later revealed to be the son of a farmer. Kambei assembles four other samurais, including Kyuzo (Seiji Miyaguchi), a master swordsman, to round out the group. Together they consolidate the village's defenses and shape the villagers into a militia, while the bandits loom menacingly nearby. Soon raids and counter-raids build to a final bloody heart-wrenching battle. ~ Jonathan Crow, Rovi            \""
      ]
     },
     "execution_count": 163,
     "metadata": {},
     "output_type": "execute_result"
    }
   ],
   "source": [
    "tables = soup.find('div',{'class':'panel-body content_body'})\n",
    "synopsis = tables.findAll('div',{'class':'movie_synopsis clamp clamp-6 js-clamp'})[0].get_text()\n",
    "synopsis.replace('\\n','')"
   ]
  },
  {
   "cell_type": "code",
   "execution_count": 162,
   "metadata": {},
   "outputs": [
    {
     "data": {
      "text/plain": [
       "'G                    '"
      ]
     },
     "execution_count": 162,
     "metadata": {},
     "output_type": "execute_result"
    }
   ],
   "source": [
    "pg = tables.find('div',{'class':'meta-value'}).get_text()\n",
    "pg.replace('\\n','')"
   ]
  },
  {
   "cell_type": "code",
   "execution_count": 173,
   "metadata": {},
   "outputs": [
    {
     "data": {
      "text/plain": [
       "'                                                Action & Adventure,                                                 Art House & International,                                                 Classics,                                                 Drama                                            '"
      ]
     },
     "execution_count": 173,
     "metadata": {},
     "output_type": "execute_result"
    }
   ],
   "source": [
    "synopsis = tables.findAll('li',{'class':'meta-row clearfix'})\n",
    "genre = synopsis[1].find('div',{'class':'meta-value'}).get_text()\n",
    "genre.replace('\\n','')"
   ]
  },
  {
   "cell_type": "code",
   "execution_count": 114,
   "metadata": {},
   "outputs": [
    {
     "data": {
      "text/plain": [
       "'Akira Kurosawa'"
      ]
     },
     "execution_count": 114,
     "metadata": {},
     "output_type": "execute_result"
    }
   ],
   "source": [
    "directors = synopsis[2].findAll('div',{'class':'meta-value'})[0].get_text()\n",
    "directors.replace('\\n','')"
   ]
  },
  {
   "cell_type": "code",
   "execution_count": 115,
   "metadata": {},
   "outputs": [
    {
     "data": {
      "text/plain": [
       "'Akira Kurosawa,                                                 Shinobu Hashimoto,                                                 Hideo Oguni'"
      ]
     },
     "execution_count": 115,
     "metadata": {},
     "output_type": "execute_result"
    }
   ],
   "source": [
    "written_by = synopsis[3].findAll('div',{'class':'meta-value'})[0].get_text()\n",
    "written_by.replace('\\n','')"
   ]
  },
  {
   "cell_type": "code",
   "execution_count": 116,
   "metadata": {},
   "outputs": [
    {
     "data": {
      "text/plain": [
       "'Nov 19, 1956                        \\xa0wide'"
      ]
     },
     "execution_count": 116,
     "metadata": {},
     "output_type": "execute_result"
    }
   ],
   "source": [
    "release_date = synopsis[4].findAll('div',{'class':'meta-value'})[0].get_text()\n",
    "release_date.replace('\\n','')"
   ]
  },
  {
   "cell_type": "code",
   "execution_count": 120,
   "metadata": {},
   "outputs": [
    {
     "data": {
      "text/plain": [
       "'\\n                        Columbia Pictures\\n                    '"
      ]
     },
     "execution_count": 120,
     "metadata": {},
     "output_type": "execute_result"
    }
   ],
   "source": [
    "run_time = synopsis[7].findAll('div',{'class':'meta-value'})[0].get_text()\n",
    "run_time"
   ]
  },
  {
   "cell_type": "markdown",
   "metadata": {},
   "source": [
    "dict_data = {}\n",
    "\n",
    "for i in range(12):\n",
    "    try:\n",
    "        ii = synopsis[i].findAll('div',{'class':'meta-label subtle'})[0].get_text()\n",
    "        dict_data[ii] = synopsis[i].find('div',{'class':'meta-value'}).get_text()\n",
    "    except:\n",
    "        continue"
   ]
  },
  {
   "cell_type": "code",
   "execution_count": 119,
   "metadata": {},
   "outputs": [
    {
     "name": "stdout",
     "output_type": "stream",
     "text": [
      "nan\n"
     ]
    }
   ],
   "source": [
    "try:\n",
    "    studio = synopsis[8].findAll('div',{'class':'meta-value'})[0].get_text()\n",
    "\n",
    "except IndexError:\n",
    "    studio = np.NaN\n",
    "print(studio)    \n"
   ]
  },
  {
   "cell_type": "markdown",
   "metadata": {},
   "source": [
    "## Cast"
   ]
  },
  {
   "cell_type": "code",
   "execution_count": null,
   "metadata": {},
   "outputs": [],
   "source": [
    "def list_celeb_names(all_celebrities):\n",
    "    top_5_celeb_names = []\n",
    "    try:\n",
    "        for i in range(5):\n",
    "            top_5_celeb_names.append(all_celebrities[i].attrs['href'][11:])\n",
    "    except IndexError:\n",
    "        continue\n",
    "    return top_5_celeb_names"
   ]
  },
  {
   "cell_type": "code",
   "execution_count": null,
   "metadata": {
    "scrolled": true
   },
   "outputs": [],
   "source": [
    "cast = soup.find('div',{'class':'castSection'})\n",
    "try :\n",
    "    all_celebs = cast.findAll('a',{'class':'pull-left'})\n",
    "    top_5_celeb_names = list_celeb_names(all_celebs)\n",
    "#     print(top_5_celeb_names)\n",
    "except AttributeError:\n",
    "    pass\n",
    "top_5_celeb_names = \", \".join(top_5_celeb_names)\n",
    "top_5_celeb_names"
   ]
  },
  {
   "cell_type": "markdown",
   "metadata": {},
   "source": [
    "## Critics Review"
   ]
  },
  {
   "cell_type": "code",
   "execution_count": null,
   "metadata": {},
   "outputs": [],
   "source": [
    "def critic_line_url(critic_lines):\n",
    "    url =[]\n",
    "    critic_line =[]\n",
    "    for i in range(20):\n",
    "        try:\n",
    "            url.append(critic_lines[i].attrs['cite'])\n",
    "            critic_line.append(critic_lines[i].get_text())\n",
    "        except:\n",
    "            continue\n",
    "    return critic_line, url"
   ]
  },
  {
   "cell_type": "code",
   "execution_count": null,
   "metadata": {},
   "outputs": [],
   "source": [
    "# critic_review = soup.find('section',{'class':'panel panel-rt panel-box'})\n",
    "critic_lines = soup.findAll('div',{'class':'panel-body content_body'})[3]\n",
    "critic_lines = critic_lines.findAll('blockquote',{'class':'media-body quote_bubble__quote'})\n",
    "critic_line, critic_url = critic_line_url(critic_lines)\n",
    "critic_line, critic_url = \", \".join(critic_line), \", \".join(critic_url)\n",
    "critic_url"
   ]
  },
  {
   "cell_type": "markdown",
   "metadata": {},
   "source": [
    "## Audiences Review"
   ]
  },
  {
   "cell_type": "code",
   "execution_count": null,
   "metadata": {},
   "outputs": [],
   "source": [
    "def audience_line(audience_review):\n",
    "    audience_line =[]\n",
    "    for i in range(10):\n",
    "        try:\n",
    "            audience_line.append(audience_review.findAll('div',{'class':'mop-audience-reviews__review--comment clamp clamp-4 js-clamp'})[i].get_text())\n",
    "        except IndexError:\n",
    "            continue\n",
    "    return audience_line"
   ]
  },
  {
   "cell_type": "code",
   "execution_count": null,
   "metadata": {},
   "outputs": [],
   "source": [
    "audience_review = soup.find('ul',{'class':'mop-audience-reviews__reviews-wrap clearfix'})\n",
    "audience_lines = audience_line(audience_review)\n",
    "audience_review = \"\".join(audience_lines)\n",
    "audience_review"
   ]
  },
  {
   "cell_type": "markdown",
   "metadata": {},
   "source": [
    "## Quotes"
   ]
  },
  {
   "cell_type": "code",
   "execution_count": null,
   "metadata": {},
   "outputs": [],
   "source": [
    "quotes_url = soup.findAll('div',{'class':'panel-body content_body'})[4]\n",
    "quotes_url = quotes_url.find('a',{'class':'unstyled articleLink fr'}).attrs['href']\n",
    "quotes_url = 'https://www.rottentomatoes.com' + quotes_url\n",
    "quotes_page = requests.get(quotes_url)\n",
    "quotes_page=bs(quotes_page.text)"
   ]
  },
  {
   "cell_type": "code",
   "execution_count": null,
   "metadata": {},
   "outputs": [],
   "source": [
    "quotes_lines = quotes_page.findAll('div',{'class':'panel-body content_body'})[1]\n",
    "# quotes_lines.findAll('span',{'class':'bold quote_actor'})\n",
    "quotes_lines = quotes_lines.findAll('span')"
   ]
  },
  {
   "cell_type": "code",
   "execution_count": null,
   "metadata": {},
   "outputs": [],
   "source": [
    "quote_lines = quotes_lines[1::2]\n",
    "# [word for word in re.split(\"\\W+\",quote_lines) if word.lower() not in ['<span>']]\n",
    "cleaned_quotes = []\n",
    "for line in quote_lines:\n",
    "    try:\n",
    "        line = str(line).replace('\\n','')\n",
    "        cleaned_quotes.append(re.search('<span>(.*)</span>',line).group(1))\n",
    "    except:\n",
    "        continue\n",
    "\n",
    "quotes = \"\".join(cleaned_quotes)\n",
    "# quotes"
   ]
  },
  {
   "cell_type": "code",
   "execution_count": null,
   "metadata": {},
   "outputs": [],
   "source": [
    "# for i in list(quotes_lines):\n",
    "#     items = re.findall(\"bold quote_actor.*$\",str(i),re.MULTILINE)\n",
    "#     print(items)"
   ]
  },
  {
   "cell_type": "code",
   "execution_count": null,
   "metadata": {},
   "outputs": [],
   "source": [
    "# ,'num_critics','audience_score','num_audience',\n",
    "#                           'synopsis','pg','genre','directors','written_by','release_date',\n",
    "#                            'run_time','studio','top_5_celeb_names', 'critic_line', 'critic_url',\n",
    "#                             'audience_review', 'quotes'"
   ]
  },
  {
   "cell_type": "code",
   "execution_count": null,
   "metadata": {},
   "outputs": [],
   "source": [
    "df=pd.DataFrame()\n",
    "df['critic_score'] = [critic_score]\n",
    "df['audience_score'] = [audience_score]\n",
    "df['pg'] = pg\n",
    "df['genre'] = genre\n",
    "df['directors'] = directors\n",
    "df['written_by'] = written_by\n",
    "df['release_date'] = release_date\n",
    "df['run_time'] = run_time\n",
    "df['studio'] = studio\n",
    "df['top_5_celeb_names'] = top_5_celeb_names\n",
    "df['critic_line'] = critic_line\n",
    "df['critic_url'] = critic_url\n",
    "df['audience_review'] = audience_review\n",
    "df['quotes'] = quotes"
   ]
  },
  {
   "cell_type": "code",
   "execution_count": null,
   "metadata": {},
   "outputs": [],
   "source": [
    "df"
   ]
  },
  {
   "cell_type": "code",
   "execution_count": null,
   "metadata": {},
   "outputs": [],
   "source": []
  }
 ],
 "metadata": {
  "kernelspec": {
   "display_name": "Python 3",
   "language": "python",
   "name": "python3"
  },
  "language_info": {
   "codemirror_mode": {
    "name": "ipython",
    "version": 3
   },
   "file_extension": ".py",
   "mimetype": "text/x-python",
   "name": "python",
   "nbconvert_exporter": "python",
   "pygments_lexer": "ipython3",
   "version": "3.7.6"
  }
 },
 "nbformat": 4,
 "nbformat_minor": 4
}
